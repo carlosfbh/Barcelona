{
 "cells": [
  {
   "cell_type": "code",
   "execution_count": 2,
   "metadata": {
    "collapsed": true
   },
   "outputs": [],
   "source": [
    "import pandas as pd\n",
    "import numpy as np"
   ]
  },
  {
   "cell_type": "markdown",
   "metadata": {},
   "source": [
    "### INTRODUCIR DATOS"
   ]
  },
  {
   "cell_type": "code",
   "execution_count": 3,
   "metadata": {
    "collapsed": true
   },
   "outputs": [],
   "source": [
    "jugadores = [\n",
    "    \"Ter Stegen\",\n",
    "    \"Cillesen\",\n",
    "    \"Semedo\",\n",
    "    \"Pique\",\n",
    "    \"Lenglet\",\n",
    "    \"Jordi Alba\",\n",
    "    \"Umtiti\",\n",
    "    \"Vermaelen\",\n",
    "    \"Rakitic\",\n",
    "    \"Busquets\",\n",
    "    \"Denis Suarez\",\n",
    "    \"Coutinho\",\n",
    "    \"Arthur\",\n",
    "    \"Rafinha\",\n",
    "    \"Samper\",\n",
    "    \"S. Roberto\",\n",
    "    \"Arturo Vidal\",\n",
    "    \"Aleña\",\n",
    "    \"Luis Suarez\",\n",
    "    \"Messi\",\n",
    "    \"Dembele\",\n",
    "    \"Malcom\",\n",
    "    \"Munir\"\n",
    "]"
   ]
  },
  {
   "cell_type": "code",
   "execution_count": 4,
   "metadata": {
    "collapsed": true
   },
   "outputs": [],
   "source": [
    "variables = [\n",
    "    \"Nombre\",\n",
    "    \"PJ\",\n",
    "    \"Minutos\",\n",
    "    \"Goles\",\n",
    "    \"Asistencias\",\n",
    "    \"Remates\",\n",
    "    \"Pases\",\n",
    "    \"% Pases\",\n",
    "    \"Faltas Recibidas\",\n",
    "    \"Faltas Cometidas\",\n",
    "    \"Tarjetas Amarillas\",\n",
    "    \"Tarjetas Rojas\"\n",
    "]"
   ]
  },
  {
   "cell_type": "code",
   "execution_count": 5,
   "metadata": {
    "collapsed": true
   },
   "outputs": [],
   "source": [
    "df = pd.DataFrame(columns = variables)"
   ]
  },
  {
   "cell_type": "code",
   "execution_count": 6,
   "metadata": {
    "collapsed": true
   },
   "outputs": [],
   "source": [
    "df[\"Nombre\"] = jugadores"
   ]
  },
  {
   "cell_type": "code",
   "execution_count": 7,
   "metadata": {
    "collapsed": true
   },
   "outputs": [],
   "source": [
    "def introducir_datos(dataframe):\n",
    "    \n",
    "    for i, nombre in enumerate(dataframe[\"Nombre\"]):\n",
    "        ask = input(\"%s jugó el partido? (y/n)\" % (nombre))\n",
    "        \n",
    "        if ask == \"y\":\n",
    "            minutos = input(\"Cuántos minutos jugó: \")\n",
    "            goles = input(\"Cuántos goles marcó: \")\n",
    "            asistencias = input(\"Asistencias: \")\n",
    "            remates = input(\"Remates: \")\n",
    "            pases = input(\"Pases: \")\n",
    "            p_pases = input(\"Porcentaje de Pases acertados: \")\n",
    "            faltasr = input(\"Faltas recibidas: \")\n",
    "            faltasc = input(\"Faltas cometidas: \")\n",
    "            tarjetasa = input(\"Tarjetas amarillas: \")\n",
    "            tarjetasr = input(\"Tarjetas rojas: \")\n",
    "            \n",
    "        else:\n",
    "            continue\n",
    "    \n",
    "        registro = [nombre, 1, minutos, goles, asistencias, remates, pases, p_pases, faltasr, faltasc, tarjetasa, tarjetasr]\n",
    "        dataframe.loc[i] = registro\n",
    "        \n",
    "    return dataframe"
   ]
  },
  {
   "cell_type": "code",
   "execution_count": 7,
   "metadata": {},
   "outputs": [
    {
     "name": "stdout",
     "output_type": "stream",
     "text": [
      "Ter Stegen jugó el partido? (y/n)y\n",
      "Cuántos minutos jugó: 90\n",
      "Cuántos goles marcó: 0\n",
      "Asistencias: 0\n",
      "Remates: 0\n",
      "Pases: 35\n",
      "Porcentaje de Pases acertados: 97.1\n",
      "Faltas recibidas: 2\n",
      "Faltas cometidas: 0\n",
      "Tarjetas amarillas: 0\n",
      "Tarjetas rojas: 0\n",
      "Cillesen jugó el partido? (y/n)n\n",
      "Semedo jugó el partido? (y/n)n\n",
      "Pique jugó el partido? (y/n)y\n",
      "Cuántos minutos jugó: 90\n",
      "Cuántos goles marcó: 0\n",
      "Asistencias: 0\n",
      "Remates: 0\n",
      "Pases: 61\n",
      "Porcentaje de Pases acertados: 90.2\n",
      "Faltas recibidas: 0\n",
      "Faltas cometidas: 0\n",
      "Tarjetas amarillas: 0\n",
      "Tarjetas rojas: 0\n",
      "Lenglet jugó el partido? (y/n)y\n",
      "Cuántos minutos jugó: 10\n",
      "Cuántos goles marcó: 0\n",
      "Asistencias: 0\n",
      "Remates: 0\n",
      "Pases: 7\n",
      "Porcentaje de Pases acertados: 71.4\n",
      "Faltas recibidas: 0\n",
      "Faltas cometidas: 1\n",
      "Tarjetas amarillas: 0\n",
      "Tarjetas rojas: 0\n",
      "Jordi Alba jugó el partido? (y/n)y\n",
      "Cuántos minutos jugó: 90\n",
      "Cuántos goles marcó: 0\n",
      "Asistencias: 0\n",
      "Remates: 1\n",
      "Pases: 73\n",
      "Porcentaje de Pases acertados: 90.4\n",
      "Faltas recibidas: 0\n",
      "Faltas cometidas: 0\n",
      "Tarjetas amarillas: 0\n",
      "Tarjetas rojas: 0\n",
      "Umtiti jugó el partido? (y/n)y\n",
      "Cuántos minutos jugó: 79\n",
      "Cuántos goles marcó: 0\n",
      "Asistencias: 0\n",
      "Remates: 0\n",
      "Pases: 68\n",
      "Porcentaje de Pases acertados: 91.2\n",
      "Faltas recibidas: 0\n",
      "Faltas cometidas: 5\n",
      "Tarjetas amarillas: 2\n",
      "Tarjetas rojas: 1\n",
      "Vermaelen jugó el partido? (y/n)n\n",
      "Rakitic jugó el partido? (y/n)y\n",
      "Cuántos minutos jugó: 84\n",
      "Cuántos goles marcó: 0\n",
      "Asistencias: 1\n",
      "Remates: 3\n",
      "Pases: 80\n",
      "Porcentaje de Pases acertados: 91.3\n",
      "Faltas recibidas: 1\n",
      "Faltas cometidas: 0\n",
      "Tarjetas amarillas: 0\n",
      "Tarjetas rojas: 0\n",
      "Busquets jugó el partido? (y/n)y\n",
      "Cuántos minutos jugó: 90\n",
      "Cuántos goles marcó: 0\n",
      "Asistencias: 0\n",
      "Remates: 0\n",
      "Pases: 106\n",
      "Porcentaje de Pases acertados: 95.3\n",
      "Faltas recibidas: 1\n",
      "Faltas cometidas: 2\n",
      "Tarjetas amarillas: 0\n",
      "Tarjetas rojas: 0\n",
      "Denis Suarez jugó el partido? (y/n)n\n",
      "Coutinho jugó el partido? (y/n)y\n",
      "Cuántos minutos jugó: 80\n",
      "Cuántos goles marcó: 0\n",
      "Asistencias: 1\n",
      "Remates: 3\n",
      "Pases: 81\n",
      "Porcentaje de Pases acertados: 93.8\n",
      "Faltas recibidas: 1\n",
      "Faltas cometidas: 0\n",
      "Tarjetas amarillas: 0\n",
      "Tarjetas rojas: 0\n",
      "Arthur jugó el partido? (y/n)y\n",
      "Cuántos minutos jugó: 8\n",
      "Cuántos goles marcó: 0\n",
      "Asistencias: 0\n",
      "Remates: 0\n",
      "Pases: 16\n",
      "Porcentaje de Pases acertados: 87.5\n",
      "Faltas recibidas: 1\n",
      "Faltas cometidas: 0\n",
      "Tarjetas amarillas: 0\n",
      "Tarjetas rojas: 0\n",
      "Rafinha jugó el partido? (y/n)n\n",
      "Samper jugó el partido? (y/n)n\n",
      "S. Roberto jugó el partido? (y/n)y\n",
      "Cuántos minutos jugó: 90\n",
      "Cuántos goles marcó: 0\n",
      "Asistencias: 0\n",
      "Remates: 2\n",
      "Pases: 92\n",
      "Porcentaje de Pases acertados: 95.7\n",
      "Faltas recibidas: 0\n",
      "Faltas cometidas: 0\n",
      "Tarjetas amarillas: 0\n",
      "Tarjetas rojas: 0\n",
      "Arturo Vidal jugó el partido? (y/n)y\n",
      "Cuántos minutos jugó: 6\n",
      "Cuántos goles marcó: 0\n",
      "Asistencias: 0\n",
      "Remates: 0\n",
      "Pases: 15\n",
      "Porcentaje de Pases acertados: 86.7\n",
      "Faltas recibidas: 0\n",
      "Faltas cometidas: 0\n",
      "Tarjetas amarillas: 0\n",
      "Tarjetas rojas: 0\n",
      "Aleña jugó el partido? (y/n)n\n",
      "Luis Suarez jugó el partido? (y/n)y\n",
      "Cuántos minutos jugó: 90\n",
      "Cuántos goles marcó: 0\n",
      "Asistencias: 1\n",
      "Remates: 4\n",
      "Pases: 35\n",
      "Porcentaje de Pases acertados: 82.9\n",
      "Faltas recibidas: 2\n",
      "Faltas cometidas: 1\n",
      "Tarjetas amarillas: 0\n",
      "Tarjetas rojas: 0\n",
      "Messi jugó el partido? (y/n)y\n",
      "Cuántos minutos jugó: 90\n",
      "Cuántos goles marcó: 3\n",
      "Asistencias: 0\n",
      "Remates: 6\n",
      "Pases: 80\n",
      "Porcentaje de Pases acertados: 90\n",
      "Faltas recibidas: 1\n",
      "Faltas cometidas: 0\n",
      "Tarjetas amarillas: 0\n",
      "Tarjetas rojas: 0\n",
      "Dembele jugó el partido? (y/n)y\n",
      "Cuántos minutos jugó: 82\n",
      "Cuántos goles marcó: 1\n",
      "Asistencias: 0\n",
      "Remates: 2\n",
      "Pases: 32\n",
      "Porcentaje de Pases acertados: 75\n",
      "Faltas recibidas: 3\n",
      "Faltas cometidas: 1\n",
      "Tarjetas amarillas: 0\n",
      "Tarjetas rojas: 0\n",
      "Malcom jugó el partido? (y/n)n\n",
      "Munir jugó el partido? (y/n)n\n"
     ]
    }
   ],
   "source": [
    "barcelona_psv = introducir_datos(df)"
   ]
  },
  {
   "cell_type": "code",
   "execution_count": 8,
   "metadata": {
    "collapsed": true
   },
   "outputs": [],
   "source": [
    "barcelona_psv.to_csv(\"Barcelona_PSV\", sep = \"\\t\")"
   ]
  },
  {
   "cell_type": "markdown",
   "metadata": {},
   "source": [
    "### COMBINAR DATAFRAMES"
   ]
  },
  {
   "cell_type": "code",
   "execution_count": 12,
   "metadata": {
    "collapsed": true
   },
   "outputs": [],
   "source": [
    "def combinar_datos(df1, df2):\n",
    "    \n",
    "    df1.fillna(0, inplace = True)\n",
    "    df2.fillna(0, inplace = True)\n",
    "    df = df1.add(df2, fill_value = 0)\n",
    "    df[\"Nombre\"] = jugadores\n",
    "    df[\"% Pases\"] = ((df1[\"Pases\"] * df1[\"% Pases\"]) + (df2[\"Pases\"] * df2[\"% Pases\"])) / (df1[\"Pases\"] + df2[\"Pases\"])\n",
    "    \n",
    "    return df"
   ]
  },
  {
   "cell_type": "code",
   "execution_count": 25,
   "metadata": {
    "collapsed": true
   },
   "outputs": [],
   "source": [
    "df1 = pd.read_csv(\"Total\", sep = \"\\t\", encoding = \"latin-1\", index_col = 0)\n",
    "df2 = pd.read_csv(\"Champions\", sep = \"\\t\", encoding = \"latin-1\", index_col = 0)"
   ]
  },
  {
   "cell_type": "code",
   "execution_count": 26,
   "metadata": {
    "collapsed": true
   },
   "outputs": [],
   "source": [
    "total = combinar_datos(df1, df2)"
   ]
  },
  {
   "cell_type": "code",
   "execution_count": 27,
   "metadata": {
    "collapsed": true
   },
   "outputs": [],
   "source": [
    "total.to_csv(\"Total\", sep = \"\\t\")"
   ]
  }
 ],
 "metadata": {
  "kernelspec": {
   "display_name": "Python 3",
   "language": "python",
   "name": "python3"
  },
  "language_info": {
   "codemirror_mode": {
    "name": "ipython",
    "version": 3
   },
   "file_extension": ".py",
   "mimetype": "text/x-python",
   "name": "python",
   "nbconvert_exporter": "python",
   "pygments_lexer": "ipython3",
   "version": "3.6.3"
  }
 },
 "nbformat": 4,
 "nbformat_minor": 2
}

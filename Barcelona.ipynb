{
 "cells": [
  {
   "cell_type": "code",
   "execution_count": 1,
   "metadata": {
    "collapsed": true
   },
   "outputs": [],
   "source": [
    "import pandas as pd\n",
    "import numpy as np"
   ]
  },
  {
   "cell_type": "markdown",
   "metadata": {},
   "source": [
    "### INTRODUCIR DATOS"
   ]
  },
  {
   "cell_type": "code",
   "execution_count": 17,
   "metadata": {
    "collapsed": true
   },
   "outputs": [],
   "source": [
    "jugadores = [\n",
    "    \"Ter Stegen\",\n",
    "    \"Cillesen\",\n",
    "    \"Semedo\",\n",
    "    \"Pique\",\n",
    "    \"Lenglet\",\n",
    "    \"Jordi Alba\",\n",
    "    \"Umtiti\",\n",
    "    \"Vermaelen\",\n",
    "    \"Rakitic\",\n",
    "    \"Busquets\",\n",
    "    \"Denis Suarez\",\n",
    "    \"Coutinho\",\n",
    "    \"Arthur\",\n",
    "    \"Rafinha\",\n",
    "    \"Samper\",\n",
    "    \"S. Roberto\",\n",
    "    \"Arturo Vidal\",\n",
    "    \"Aleña\",\n",
    "    \"Luis Suarez\",\n",
    "    \"Messi\",\n",
    "    \"Dembele\",\n",
    "    \"Malcom\",\n",
    "    \"Munir\"\n",
    "]"
   ]
  },
  {
   "cell_type": "code",
   "execution_count": 18,
   "metadata": {
    "collapsed": true
   },
   "outputs": [],
   "source": [
    "variables = [\n",
    "    \"Nombre\",\n",
    "    \"PJ\",\n",
    "    \"Minutos\",\n",
    "    \"Goles\",\n",
    "    \"Asistencias\",\n",
    "    \"Remates\",\n",
    "    \"Pases\",\n",
    "    \"% Pases\",\n",
    "    \"Faltas Recibidas\",\n",
    "    \"Faltas Cometidas\",\n",
    "    \"Tarjetas Amarillas\",\n",
    "    \"Tarjetas Rojas\"\n",
    "]"
   ]
  },
  {
   "cell_type": "code",
   "execution_count": 19,
   "metadata": {
    "collapsed": true
   },
   "outputs": [],
   "source": [
    "df = pd.DataFrame(columns = variables)"
   ]
  },
  {
   "cell_type": "code",
   "execution_count": 20,
   "metadata": {
    "collapsed": true
   },
   "outputs": [],
   "source": [
    "df[\"Nombre\"] = jugadores"
   ]
  },
  {
   "cell_type": "code",
   "execution_count": 21,
   "metadata": {
    "collapsed": true
   },
   "outputs": [],
   "source": [
    "def introducir_datos(dataframe):\n",
    "    \n",
    "    for i, nombre in enumerate(dataframe[\"Nombre\"]):\n",
    "        ask = input(\"%s jugó el partido? (y/n)\" % (nombre))\n",
    "        \n",
    "        if ask == \"y\":\n",
    "            minutos = input(\"Cuántos minutos jugó: \")\n",
    "            goles = input(\"Cuántos goles marcó: \")\n",
    "            asistencias = input(\"Asistencias: \")\n",
    "            remates = input(\"Remates: \")\n",
    "            pases = input(\"Pases: \")\n",
    "            p_pases = input(\"Porcentaje de Pases acertados: \")\n",
    "            faltasr = input(\"Faltas recibidas: \")\n",
    "            faltasc = input(\"Faltas cometidas: \")\n",
    "            tarjetasa = input(\"Tarjetas amarillas: \")\n",
    "            tarjetasr = input(\"Tarjetas rojas: \")\n",
    "            \n",
    "        else:\n",
    "            continue\n",
    "    \n",
    "        registro = [nombre, 1, minutos, goles, asistencias, remates, pases, p_pases, faltasr, faltasc, tarjetasa, tarjetasr]\n",
    "        dataframe.loc[i] = registro\n",
    "        \n",
    "    return dataframe"
   ]
  },
  {
   "cell_type": "code",
   "execution_count": 7,
   "metadata": {},
   "outputs": [
    {
     "name": "stdout",
     "output_type": "stream",
     "text": [
      "Ter Stegen jugó el partido? (y/n)y\n",
      "Cuántos minutos jugó: 90\n",
      "Cuántos goles marcó: 0\n",
      "Asistencias: 0\n",
      "Remates: 0\n",
      "Pases: 21\n",
      "Porcentaje de Pases acertados: 81\n",
      "Faltas recibidas: 0\n",
      "Faltas cometidas: 1\n",
      "Tarjetas amarillas: 1\n",
      "Tarjetas rojas: 0\n",
      "Cillesen jugó el partido? (y/n)n\n",
      "Semedo jugó el partido? (y/n)y\n",
      "Cuántos minutos jugó: 90\n",
      "Cuántos goles marcó: 0\n",
      "Asistencias: 0\n",
      "Remates: 0\n",
      "Pases: 75\n",
      "Porcentaje de Pases acertados: 90.7\n",
      "Faltas recibidas: 3\n",
      "Faltas cometidas: 1\n",
      "Tarjetas amarillas: 0\n",
      "Tarjetas rojas: 0\n",
      "Pique jugó el partido? (y/n)y\n",
      "Cuántos minutos jugó: 90\n",
      "Cuántos goles marcó: 1\n",
      "Asistencias: 0\n",
      "Remates: 1\n",
      "Pases: 102\n",
      "Porcentaje de Pases acertados: 94.1\n",
      "Faltas recibidas: 0\n",
      "Faltas cometidas: 0\n",
      "Tarjetas amarillas: 0\n",
      "Tarjetas rojas: 0\n",
      "Lenglet jugó el partido? (y/n)y\n",
      "Cuántos minutos jugó: 90\n",
      "Cuántos goles marcó: 0\n",
      "Asistencias: 0\n",
      "Remates: 1\n",
      "Pases: 68\n",
      "Porcentaje de Pases acertados: 94.1\n",
      "Faltas recibidas: 1\n",
      "Faltas cometidas: 2\n",
      "Tarjetas amarillas: 1\n",
      "Tarjetas rojas: 0\n",
      "Jordi Alba jugó el partido? (y/n)y\n",
      "Cuántos minutos jugó: 90\n",
      "Cuántos goles marcó: 0\n",
      "Asistencias: 0\n",
      "Remates: 2\n",
      "Pases: 78\n",
      "Porcentaje de Pases acertados: 85.9\n",
      "Faltas recibidas: 0\n",
      "Faltas cometidas: 3\n",
      "Tarjetas amarillas: 0\n",
      "Tarjetas rojas: 0\n",
      "Umtiti jugó el partido? (y/n)n\n",
      "Vermaelen jugó el partido? (y/n)n\n",
      "Rakitic jugó el partido? (y/n)y\n",
      "Cuántos minutos jugó: 45\n",
      "Cuántos goles marcó: 0\n",
      "Asistencias: 0\n",
      "Remates: 0\n",
      "Pases: 44\n",
      "Porcentaje de Pases acertados: 90.9\n",
      "Faltas recibidas: 1\n",
      "Faltas cometidas: 1\n",
      "Tarjetas amarillas: 0\n",
      "Tarjetas rojas: 0\n",
      "Busquets jugó el partido? (y/n)y\n",
      "Cuántos minutos jugó: 90\n",
      "Cuántos goles marcó: 0\n",
      "Asistencias: 0\n",
      "Remates: 0\n",
      "Pases: 68\n",
      "Porcentaje de Pases acertados: 83.8\n",
      "Faltas recibidas: 1\n",
      "Faltas cometidas: 1\n",
      "Tarjetas amarillas: 1\n",
      "Tarjetas rojas: 0\n",
      "Denis Suarez jugó el partido? (y/n)n\n",
      "Coutinho jugó el partido? (y/n)y\n",
      "Cuántos minutos jugó: 38\n",
      "Cuántos goles marcó: 0\n",
      "Asistencias: 0\n",
      "Remates: 1\n",
      "Pases: 31\n",
      "Porcentaje de Pases acertados: 96.8\n",
      "Faltas recibidas: 2\n",
      "Faltas cometidas: 0\n",
      "Tarjetas amarillas: 0\n",
      "Tarjetas rojas: 0\n",
      "Arthur jugó el partido? (y/n)y\n",
      "Cuántos minutos jugó: 52\n",
      "Cuántos goles marcó: 0\n",
      "Asistencias: 0\n",
      "Remates: 0\n",
      "Pases: 64\n",
      "Porcentaje de Pases acertados: 92.2\n",
      "Faltas recibidas: 3\n",
      "Faltas cometidas: 0\n",
      "Tarjetas amarillas: 0\n",
      "Tarjetas rojas: 0\n",
      "Rafinha jugó el partido? (y/n)y\n",
      "Cuántos minutos jugó: 45\n",
      "Cuántos goles marcó: 0\n",
      "Asistencias: 0\n",
      "Remates: 1\n",
      "Pases: 38\n",
      "Porcentaje de Pases acertados: 97.4\n",
      "Faltas recibidas: 1\n",
      "Faltas cometidas: 1\n",
      "Tarjetas amarillas: 0\n",
      "Tarjetas rojas: 0\n",
      "Samper jugó el partido? (y/n)n\n",
      "S. Roberto jugó el partido? (y/n)n\n",
      "Arturo Vidal jugó el partido? (y/n)y\n",
      "Cuántos minutos jugó: 5\n",
      "Cuántos goles marcó: 0\n",
      "Asistencias: 0\n",
      "Remates: 0\n",
      "Pases: 5\n",
      "Porcentaje de Pases acertados: 100\n",
      "Faltas recibidas: 0\n",
      "Faltas cometidas: 0\n",
      "Tarjetas amarillas: 0\n",
      "Tarjetas rojas: 0\n",
      "Aleña jugó el partido? (y/n)n\n",
      "Luis Suarez jugó el partido? (y/n)y\n",
      "Cuántos minutos jugó: 90\n",
      "Cuántos goles marcó: 0\n",
      "Asistencias: 0\n",
      "Remates: 4\n",
      "Pases: 38\n",
      "Porcentaje de Pases acertados: 73.7\n",
      "Faltas recibidas: 1\n",
      "Faltas cometidas: 2\n",
      "Tarjetas amarillas: 0\n",
      "Tarjetas rojas: 0\n",
      "Messi jugó el partido? (y/n)y\n",
      "Cuántos minutos jugó: 90\n",
      "Cuántos goles marcó: 0\n",
      "Asistencias: 1\n",
      "Remates: 5\n",
      "Pases: 67\n",
      "Porcentaje de Pases acertados: 85.1\n",
      "Faltas recibidas: 3\n",
      "Faltas cometidas: 0\n",
      "Tarjetas amarillas: 0\n",
      "Tarjetas rojas: 0\n",
      "Dembele jugó el partido? (y/n)y\n",
      "Cuántos minutos jugó: 85\n",
      "Cuántos goles marcó: 1\n",
      "Asistencias: 0\n",
      "Remates: 2\n",
      "Pases: 42\n",
      "Porcentaje de Pases acertados: 88.1\n",
      "Faltas recibidas: 4\n",
      "Faltas cometidas: 0\n",
      "Tarjetas amarillas: 0\n",
      "Tarjetas rojas: 0\n",
      "Malcom jugó el partido? (y/n)n\n",
      "Munir jugó el partido? (y/n)n\n"
     ]
    }
   ],
   "source": [
    "supercopa = introducir_datos(df)"
   ]
  },
  {
   "cell_type": "code",
   "execution_count": 9,
   "metadata": {},
   "outputs": [],
   "source": [
    "supercopa.to_csv(\"Supercopa\", sep = \"\\t\")"
   ]
  },
  {
   "cell_type": "markdown",
   "metadata": {},
   "source": [
    "### COMBINAR DATAFRAMES"
   ]
  },
  {
   "cell_type": "code",
   "execution_count": 11,
   "metadata": {
    "collapsed": true
   },
   "outputs": [],
   "source": [
    "def combinar_datos(df1, df2):\n",
    "    \n",
    "    df = df1.add(df2, fill_value = 0)\n",
    "    df[\"Nombre\"] = jugadores\n",
    "    df[\"% Pases\"] = ((df1[\"Pases\"] * df1[\"% Pases\"]) + (df2[\"Pases\"] * df2[\"% Pases\"])) / (df1[\"Pases\"] + df2[\"Pases\"])\n",
    "    \n",
    "    return df"
   ]
  },
  {
   "cell_type": "code",
   "execution_count": 42,
   "metadata": {},
   "outputs": [],
   "source": [
    "df1 = pd.read_csv(\"Supercopa\", sep = \"\\t\", encoding = \"latin-1\", index_col = 0)\n",
    "df2 = pd.read_csv(\"Liga\", sep = \"\\t\", encoding = \"latin-1\", index_col = 0)"
   ]
  },
  {
   "cell_type": "code",
   "execution_count": 46,
   "metadata": {},
   "outputs": [],
   "source": [
    "total = combinar_datos(df1, df2)"
   ]
  },
  {
   "cell_type": "code",
   "execution_count": 47,
   "metadata": {
    "collapsed": true
   },
   "outputs": [],
   "source": [
    "total.to_csv(\"Total\", sep = \"\\t\")"
   ]
  }
 ],
 "metadata": {
  "kernelspec": {
   "display_name": "Python 3",
   "language": "python",
   "name": "python3"
  },
  "language_info": {
   "codemirror_mode": {
    "name": "ipython",
    "version": 3
   },
   "file_extension": ".py",
   "mimetype": "text/x-python",
   "name": "python",
   "nbconvert_exporter": "python",
   "pygments_lexer": "ipython3",
   "version": "3.6.3"
  }
 },
 "nbformat": 4,
 "nbformat_minor": 2
}
